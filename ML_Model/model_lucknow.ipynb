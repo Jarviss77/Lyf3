{
 "nbformat": 4,
 "nbformat_minor": 0,
 "metadata": {
  "colab": {
   "provenance": []
  },
  "kernelspec": {
   "name": "python3",
   "display_name": "Python 3"
  },
  "language_info": {
   "name": "python"
  }
 },
 "cells": [
  {
   "cell_type": "code",
   "outputs": [],
   "source": [
    "import pandas as pd\n",
    "l = pd.read_csv('../data/lucknow.csv')\n",
    "l"
   ],
   "metadata": {
    "collapsed": false
   }
  },
  {
   "cell_type": "code",
   "outputs": [],
   "source": [
    "l['date'] = pd.to_datetime(l['date'])\n",
    "l.set_index('date', inplace=True)\n",
    "l"
   ],
   "metadata": {
    "collapsed": false
   }
  },
  {
   "cell_type": "code",
   "outputs": [],
   "source": [
    "from statsmodels.tsa.seasonal import seasonal_decompose\n",
    "l_AQI = l['AQI']\n",
    "result = seasonal_decompose(l_AQI, model='multiplicative')\n",
    "result.plot();"
   ],
   "metadata": {
    "collapsed": false
   }
  },
  {
   "cell_type": "code",
   "outputs": [],
   "source": [
    "!pip install pmdarima\n",
    "import pmdarima as pm"
   ],
   "metadata": {
    "collapsed": false
   }
  },
  {
   "cell_type": "code",
   "outputs": [],
   "source": [
    "from statsmodels.tsa.statespace.sarimax import SARIMAX\n",
    "from pmdarima import auto_arima;"
   ],
   "metadata": {
    "collapsed": false
   }
  },
  {
   "cell_type": "code",
   "outputs": [],
   "source": [
    "l_AQI = l['AQI']\n",
    "auto_arima(y=l_AQI,start_p=0,start_P=0,start_q=0,start_Q=0,seasonal=True, m=12)"
   ],
   "metadata": {
    "collapsed": false
   }
  },
  {
   "cell_type": "code",
   "outputs": [],
   "source": [
    "train = l_AQI[:45] #from 2015-2018\n",
    "test = l_AQI[46:65]# july 2018-june 2019"
   ],
   "metadata": {
    "collapsed": false
   }
  },
  {
   "cell_type": "code",
   "outputs": [],
   "source": [
    "test"
   ],
   "metadata": {
    "collapsed": false
   }
  },
  {
   "cell_type": "code",
   "outputs": [],
   "source": [
    "model=SARIMAX(train,order=(1,0,0),seasonal_order=(1,0,1,12),)\n",
    "results=model.fit()\n",
    "results.summary()"
   ],
   "metadata": {
    "collapsed": false
   }
  },
  {
   "cell_type": "code",
   "outputs": [],
   "source": [
    "predictions = results.predict(start=45, end=67, typ='levels').rename('Predictions')"
   ],
   "metadata": {
    "collapsed": false
   }
  },
  {
   "cell_type": "code",
   "outputs": [],
   "source": [
    "predictions.plot(legend=True)\n",
    "test.plot(legend=True,title=\"lucknow Prediction data\");"
   ],
   "metadata": {
    "collapsed": false
   }
  },
  {
   "cell_type": "code",
   "outputs": [],
   "source": [
    "from sklearn.metrics import mean_squared_error, mean_absolute_error, r2_score, explained_variance_score, max_error,mean_poisson_deviance,mean_gamma_deviance\n",
    "import math\n",
    "import numpy as np\n",
    "RMSE=np.sqrt(mean_squared_error(predictions,test))\n",
    "print('Root Mean Squared Error: ', RMSE)\n",
    "print('Mean AQI:',test.mean())\n",
    "forecast_errors = [test[i]-predictions[i] for i in range(len(test))]\n",
    "bias = sum(forecast_errors) * 1.0/len(test)\n",
    "print('Bias: %f' % bias)\n",
    "mse = mean_squared_error(test, predictions)\n",
    "print('MSE: '+str(mse))\n",
    "mae = mean_absolute_error(test, predictions)\n",
    "print('MAE: '+str(mae))\n",
    "rmse = math.sqrt(mean_squared_error(test, predictions))\n",
    "print('RMSE: '+str(rmse))\n",
    "mape = np.mean(np.abs(predictions - test)/np.abs(test))\n",
    "print('MAPE: '+str(mape))\n",
    "r2score=r2_score(test, predictions)\n",
    "print('r2score: '+str(r2score))\n",
    "explainedVariance_score=explained_variance_score(test, predictions)\n",
    "print('explainedVariance_score: '+str(explainedVariance_score))\n",
    "me=max_error(test, predictions)\n",
    "print('me: '+str(me))\n",
    "mpd=mean_poisson_deviance(test, predictions)\n",
    "print('mpd: '+str(mpd))\n",
    "mgd=mean_gamma_deviance(test, predictions)\n",
    "print('mgd: '+str(mgd))"
   ],
   "metadata": {
    "collapsed": false
   }
  },
  {
   "cell_type": "code",
   "outputs": [],
   "source": [
    "# Forming the model:\n",
    "final_model = SARIMAX(train,order=(1,0,0),seasonal_order=(1,0,1,12))\n",
    "results = final_model.fit()\n",
    "#Obtaining predicted values:\n",
    "predictions = results.predict(start=64, end=77, typ='levels').rename('Predictions')\n",
    "#Plotting predicted values against the true values:\n",
    "predictions.plot(legend=True)\n",
    "l_AQI.plot(legend=True,figsize=(12,8),grid=True,title=\"Delhi AQI\");"
   ],
   "metadata": {
    "collapsed": false
   }
  },
  {
   "cell_type": "code",
   "outputs": [],
   "source": [
    "import pickle\n",
    "pickle.dump(results, open('lucknow.pkl', 'wb'))"
   ],
   "metadata": {
    "collapsed": false,
    "ExecuteTime": {
     "end_time": "2024-01-29T19:46:13.359866Z",
     "start_time": "2024-01-29T19:46:13.347835Z"
    }
   },
   "execution_count": 15
  },
  {
   "cell_type": "code",
   "outputs": [],
   "source": [],
   "metadata": {
    "collapsed": false
   }
  }
 ]
}
